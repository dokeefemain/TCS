{
 "cells": [
  {
   "cell_type": "markdown",
   "metadata": {
    "collapsed": true,
    "pycharm": {
     "name": "#%% md\n"
    }
   },
   "source": [
    "### Data Prep"
   ]
  },
  {
   "cell_type": "code",
   "execution_count": 1,
   "metadata": {
    "pycharm": {
     "name": "#%%\n"
    }
   },
   "outputs": [],
   "source": [
    "import pandas as pd\n",
    "import numpy as np"
   ]
  },
  {
   "cell_type": "code",
   "execution_count": 2,
   "metadata": {
    "pycharm": {
     "name": "#%%\n"
    }
   },
   "outputs": [
    {
     "data": {
      "text/plain": "         numeric_id_1  numeric_id_2\n0               98343        141493\n1               98343         58736\n2               98343        140703\n3               98343        151401\n4               98343        157118\n...               ...           ...\n6797552         97507         29359\n6797553         71175         12020\n6797554        151702        128281\n6797555        118034         38021\n6797556         27819        153993\n\n[6797557 rows x 2 columns]",
      "text/html": "<div>\n<style scoped>\n    .dataframe tbody tr th:only-of-type {\n        vertical-align: middle;\n    }\n\n    .dataframe tbody tr th {\n        vertical-align: top;\n    }\n\n    .dataframe thead th {\n        text-align: right;\n    }\n</style>\n<table border=\"1\" class=\"dataframe\">\n  <thead>\n    <tr style=\"text-align: right;\">\n      <th></th>\n      <th>numeric_id_1</th>\n      <th>numeric_id_2</th>\n    </tr>\n  </thead>\n  <tbody>\n    <tr>\n      <th>0</th>\n      <td>98343</td>\n      <td>141493</td>\n    </tr>\n    <tr>\n      <th>1</th>\n      <td>98343</td>\n      <td>58736</td>\n    </tr>\n    <tr>\n      <th>2</th>\n      <td>98343</td>\n      <td>140703</td>\n    </tr>\n    <tr>\n      <th>3</th>\n      <td>98343</td>\n      <td>151401</td>\n    </tr>\n    <tr>\n      <th>4</th>\n      <td>98343</td>\n      <td>157118</td>\n    </tr>\n    <tr>\n      <th>...</th>\n      <td>...</td>\n      <td>...</td>\n    </tr>\n    <tr>\n      <th>6797552</th>\n      <td>97507</td>\n      <td>29359</td>\n    </tr>\n    <tr>\n      <th>6797553</th>\n      <td>71175</td>\n      <td>12020</td>\n    </tr>\n    <tr>\n      <th>6797554</th>\n      <td>151702</td>\n      <td>128281</td>\n    </tr>\n    <tr>\n      <th>6797555</th>\n      <td>118034</td>\n      <td>38021</td>\n    </tr>\n    <tr>\n      <th>6797556</th>\n      <td>27819</td>\n      <td>153993</td>\n    </tr>\n  </tbody>\n</table>\n<p>6797557 rows × 2 columns</p>\n</div>"
     },
     "execution_count": 2,
     "metadata": {},
     "output_type": "execute_result"
    }
   ],
   "source": [
    "df = pd.read_csv(\"lib/datasets/twitch_gamers/large_twitch_edges.csv\")\n",
    "df"
   ]
  },
  {
   "cell_type": "markdown",
   "metadata": {
    "pycharm": {
     "name": "#%% md\n"
    }
   },
   "source": [
    "## Random walk with Restart.\n",
    "When the amount of nodes gets to 150 we randomly select a new node and then repeat"
   ]
  },
  {
   "cell_type": "code",
   "execution_count": 3,
   "metadata": {
    "pycharm": {
     "name": "#%%\n"
    }
   },
   "outputs": [],
   "source": [
    "import random\n",
    "def sub_graph(df, query, unique):\n",
    "    nodes = []\n",
    "    nodes.append(query)\n",
    "    # random walk w/ restart\n",
    "    groups1 = df.groupby(\"numeric_id_1\")\n",
    "    groups2 = df.groupby(\"numeric_id_2\")\n",
    "    end = True\n",
    "    while len(nodes) < 5000:\n",
    "        while len(nodes) < 150:\n",
    "            end = True\n",
    "            curr = query\n",
    "            while curr in nodes and end:\n",
    "                selected = list(groups1.get_group(curr)[\"numeric_id_2\"]) + list(groups2.get_group(curr)[\"numeric_id_1\"])\n",
    "                ind = random.choice(selected)\n",
    "                if ind not in df[\"numeric_id_1\"].unique():\n",
    "                    end = False\n",
    "                elif ind not in df[\"numeric_id_2\"].unique():\n",
    "                    end = False\n",
    "                curr = ind\n",
    "            if ind not in nodes:\n",
    "                nodes.append(ind)\n",
    "        query =  np.random.randint(0,123518)\n",
    "        while query not in unique:\n",
    "            query =  np.random.randint(0,123518)\n",
    "        nodes.append(query)\n",
    "\n",
    "    return nodes"
   ]
  },
  {
   "cell_type": "code",
   "execution_count": 4,
   "metadata": {},
   "outputs": [],
   "source": [
    "sub = sub_graph(df, 1, df[\"numeric_id_1\"].unique())"
   ]
  },
  {
   "cell_type": "code",
   "execution_count": 5,
   "outputs": [
    {
     "data": {
      "text/plain": "         numeric_id_1  numeric_id_2\n4496            58736        104152\n4510            58736         52703\n4549            58736         81907\n4560            58736         93147\n4565            58736        120471\n...               ...           ...\n6782934         69001          9837\n6782942         24635          9548\n6783235          2731         23000\n6783272         61161         58676\n6790677         70204          7372\n\n[23252 rows x 2 columns]",
      "text/html": "<div>\n<style scoped>\n    .dataframe tbody tr th:only-of-type {\n        vertical-align: middle;\n    }\n\n    .dataframe tbody tr th {\n        vertical-align: top;\n    }\n\n    .dataframe thead th {\n        text-align: right;\n    }\n</style>\n<table border=\"1\" class=\"dataframe\">\n  <thead>\n    <tr style=\"text-align: right;\">\n      <th></th>\n      <th>numeric_id_1</th>\n      <th>numeric_id_2</th>\n    </tr>\n  </thead>\n  <tbody>\n    <tr>\n      <th>4496</th>\n      <td>58736</td>\n      <td>104152</td>\n    </tr>\n    <tr>\n      <th>4510</th>\n      <td>58736</td>\n      <td>52703</td>\n    </tr>\n    <tr>\n      <th>4549</th>\n      <td>58736</td>\n      <td>81907</td>\n    </tr>\n    <tr>\n      <th>4560</th>\n      <td>58736</td>\n      <td>93147</td>\n    </tr>\n    <tr>\n      <th>4565</th>\n      <td>58736</td>\n      <td>120471</td>\n    </tr>\n    <tr>\n      <th>...</th>\n      <td>...</td>\n      <td>...</td>\n    </tr>\n    <tr>\n      <th>6782934</th>\n      <td>69001</td>\n      <td>9837</td>\n    </tr>\n    <tr>\n      <th>6782942</th>\n      <td>24635</td>\n      <td>9548</td>\n    </tr>\n    <tr>\n      <th>6783235</th>\n      <td>2731</td>\n      <td>23000</td>\n    </tr>\n    <tr>\n      <th>6783272</th>\n      <td>61161</td>\n      <td>58676</td>\n    </tr>\n    <tr>\n      <th>6790677</th>\n      <td>70204</td>\n      <td>7372</td>\n    </tr>\n  </tbody>\n</table>\n<p>23252 rows × 2 columns</p>\n</div>"
     },
     "execution_count": 5,
     "metadata": {},
     "output_type": "execute_result"
    }
   ],
   "source": [
    "selected_df = df[df[\"numeric_id_1\"].isin(sub)]\n",
    "selected_df = selected_df[selected_df[\"numeric_id_2\"].isin(sub)]\n",
    "selected_df"
   ],
   "metadata": {
    "collapsed": false,
    "pycharm": {
     "name": "#%%\n"
    }
   }
  },
  {
   "cell_type": "code",
   "execution_count": 6,
   "outputs": [
    {
     "data": {
      "text/plain": "4243"
     },
     "execution_count": 6,
     "metadata": {},
     "output_type": "execute_result"
    }
   ],
   "source": [
    "key = list(set(list(selected_df[\"numeric_id_1\"]) + list(selected_df[\"numeric_id_2\"])))\n",
    "len(key)"
   ],
   "metadata": {
    "collapsed": false,
    "pycharm": {
     "name": "#%%\n"
    }
   }
  },
  {
   "cell_type": "code",
   "execution_count": 7,
   "outputs": [],
   "source": [
    "P = np.zeros((len(key),len(key)))\n",
    "tmp = selected_df.groupby('numeric_id_1')\n",
    "for i in range(len(key)):\n",
    "    if key[i] in list(selected_df[\"numeric_id_1\"]):\n",
    "        P[i][np.isin(key,tmp.get_group(key[i])['numeric_id_2'])] = 1 / len(tmp.get_group(key[i])['numeric_id_2'])\n",
    "    else:\n",
    "        P[i] = np.full(len(key), 1 / len(key))"
   ],
   "metadata": {
    "collapsed": false,
    "pycharm": {
     "name": "#%%\n"
    }
   }
  },
  {
   "cell_type": "markdown",
   "metadata": {
    "pycharm": {
     "name": "#%% md\n"
    }
   },
   "source": [
    "### PPR"
   ]
  },
  {
   "cell_type": "code",
   "execution_count": 8,
   "metadata": {},
   "outputs": [],
   "source": [
    "c = .85\n",
    "n = P.shape[0]\n",
    "query = 1\n",
    "q = np.zeros((n, 1))\n",
    "q[query - 1][0] = 1\n",
    "r = np.ones((n, 1)) / n\n",
    "rback = np.zeros((n, 1))\n",
    "while np.sum(np.absolute(r - rback)) > 10 ** -6:\n",
    "    rback = r\n",
    "    r = c * np.dot(P.T, r) + (1 - c) * q"
   ]
  },
  {
   "cell_type": "markdown",
   "metadata": {
    "pycharm": {
     "name": "#%% md\n"
    }
   },
   "source": [
    "### SALSA"
   ]
  },
  {
   "cell_type": "code",
   "execution_count": 9,
   "outputs": [],
   "source": [
    "tmp = (-r.reshape((n,))).argsort()[:200]\n",
    "ha = df[df[\"numeric_id_1\"].isin(np.array(key)[tmp])]"
   ],
   "metadata": {
    "collapsed": false,
    "pycharm": {
     "name": "#%%\n"
    }
   }
  },
  {
   "cell_type": "code",
   "execution_count": 10,
   "metadata": {
    "pycharm": {
     "name": "#%%\n"
    }
   },
   "outputs": [],
   "source": [
    "bi = pd.DataFrame()\n",
    "bi[\"Hubs\"] = ha[\"numeric_id_1\"]\n",
    "bi[\"Auth\"] = ha[\"numeric_id_2\"]\n",
    "bi.to_csv(\"lib/datasets/bi.csv\", index=False)"
   ]
  },
  {
   "cell_type": "code",
   "execution_count": 62,
   "metadata": {},
   "outputs": [
    {
     "data": {
      "text/plain": "         Hubs    Auth\n0      110905  133370\n1      110905  157585\n2      110905    4459\n3      110905    9315\n4      110905  162285\n...       ...     ...\n16287   47231   58159\n16288   38713  152546\n16289   38713   74973\n16290  106691   77571\n16291    9104  150036\n\n[16292 rows x 2 columns]",
      "text/html": "<div>\n<style scoped>\n    .dataframe tbody tr th:only-of-type {\n        vertical-align: middle;\n    }\n\n    .dataframe tbody tr th {\n        vertical-align: top;\n    }\n\n    .dataframe thead th {\n        text-align: right;\n    }\n</style>\n<table border=\"1\" class=\"dataframe\">\n  <thead>\n    <tr style=\"text-align: right;\">\n      <th></th>\n      <th>Hubs</th>\n      <th>Auth</th>\n    </tr>\n  </thead>\n  <tbody>\n    <tr>\n      <th>0</th>\n      <td>110905</td>\n      <td>133370</td>\n    </tr>\n    <tr>\n      <th>1</th>\n      <td>110905</td>\n      <td>157585</td>\n    </tr>\n    <tr>\n      <th>2</th>\n      <td>110905</td>\n      <td>4459</td>\n    </tr>\n    <tr>\n      <th>3</th>\n      <td>110905</td>\n      <td>9315</td>\n    </tr>\n    <tr>\n      <th>4</th>\n      <td>110905</td>\n      <td>162285</td>\n    </tr>\n    <tr>\n      <th>...</th>\n      <td>...</td>\n      <td>...</td>\n    </tr>\n    <tr>\n      <th>16287</th>\n      <td>47231</td>\n      <td>58159</td>\n    </tr>\n    <tr>\n      <th>16288</th>\n      <td>38713</td>\n      <td>152546</td>\n    </tr>\n    <tr>\n      <th>16289</th>\n      <td>38713</td>\n      <td>74973</td>\n    </tr>\n    <tr>\n      <th>16290</th>\n      <td>106691</td>\n      <td>77571</td>\n    </tr>\n    <tr>\n      <th>16291</th>\n      <td>9104</td>\n      <td>150036</td>\n    </tr>\n  </tbody>\n</table>\n<p>16292 rows × 2 columns</p>\n</div>"
     },
     "execution_count": 62,
     "metadata": {},
     "output_type": "execute_result"
    }
   ],
   "source": [
    "bi = pd.read_csv(\"lib/datasets/bi.csv\")\n",
    "bi"
   ]
  },
  {
   "cell_type": "code",
   "execution_count": 11,
   "outputs": [],
   "source": [
    "key = np.unique(bi)\n",
    "L = np.zeros((len(key), len(key)))\n",
    "tmp = bi.groupby('Hubs')\n",
    "for i in range(len(key)):\n",
    "    if key[i] in list(bi[\"Hubs\"]):\n",
    "        L[i][np.isin(key,tmp.get_group(key[i])['Auth'])] = 1"
   ],
   "metadata": {
    "collapsed": false,
    "pycharm": {
     "name": "#%%\n"
    }
   }
  },
  {
   "cell_type": "code",
   "execution_count": 12,
   "outputs": [
    {
     "data": {
      "text/plain": "array([[0., 0., 0., ..., 0., 0., 0.],\n       [0., 0., 0., ..., 0., 0., 0.],\n       [0., 0., 0., ..., 0., 0., 0.],\n       ...,\n       [0., 0., 0., ..., 0., 0., 0.],\n       [0., 0., 0., ..., 0., 0., 0.],\n       [0., 0., 0., ..., 0., 0., 0.]])"
     },
     "execution_count": 12,
     "metadata": {},
     "output_type": "execute_result"
    }
   ],
   "source": [
    "Lr = np.zeros((len(key), len(key)))\n",
    "for i in range(len(key)):\n",
    "    if L[i].sum() != 0:\n",
    "        Lr[i] = L[i] / L[i].sum()\n",
    "Lr"
   ],
   "metadata": {
    "collapsed": false,
    "pycharm": {
     "name": "#%%\n"
    }
   }
  },
  {
   "cell_type": "code",
   "execution_count": 13,
   "outputs": [
    {
     "data": {
      "text/plain": "array([[0., 0., 0., ..., 0., 0., 0.],\n       [0., 0., 0., ..., 0., 0., 0.],\n       [0., 0., 0., ..., 0., 0., 0.],\n       ...,\n       [0., 0., 0., ..., 0., 0., 0.],\n       [0., 0., 0., ..., 0., 0., 0.],\n       [0., 0., 0., ..., 0., 0., 0.]])"
     },
     "execution_count": 13,
     "metadata": {},
     "output_type": "execute_result"
    }
   ],
   "source": [
    "Lc = np.zeros((len(key), len(key)))\n",
    "for i in range(len(key)):\n",
    "    if L[:,i].sum() != 0:\n",
    "        Lc[:,i] = L[:,i] / L[:,i].sum()\n",
    "Lc"
   ],
   "metadata": {
    "collapsed": false,
    "pycharm": {
     "name": "#%%\n"
    }
   }
  },
  {
   "cell_type": "code",
   "execution_count": 14,
   "metadata": {
    "pycharm": {
     "name": "#%%\n"
    }
   },
   "outputs": [
    {
     "name": "stdout",
     "output_type": "stream",
     "text": [
      "(200, 200) (11338, 11338)\n"
     ]
    }
   ],
   "source": [
    "rc = Lr.dot(Lc.T)\n",
    "rc_key = key[~np.all(rc == 0, axis=1)]\n",
    "H = rc[~np.all(rc == 0, axis=1)]\n",
    "H = H[:, ~np.all(H == 0, axis=0)]\n",
    "\n",
    "cr = Lc.T.dot(Lr)\n",
    "cr_key = key[~np.all(cr == 0, axis=1)]\n",
    "A = cr[~np.all(cr == 0, axis=1)]\n",
    "A = A[:, ~np.all(A == 0, axis=0)]\n",
    "print(H.shape, A.shape)"
   ]
  },
  {
   "cell_type": "code",
   "execution_count": 18,
   "metadata": {
    "pycharm": {
     "name": "#%%\n"
    }
   },
   "outputs": [
    {
     "data": {
      "text/plain": [
       "array([[1, 1, 1, 1],\n",
       "       [0, 1, 1, 0]])"
      ]
     },
     "execution_count": 18,
     "metadata": {},
     "output_type": "execute_result"
    }
   ],
   "source": [
    "tmp = np.array([[0, 1, 1, 0],\n",
    "                [0, 1, 1, 0]])\n",
    "tmp[0, np.all(tmp == 0, axis=0)] = 1\n",
    "tmp"
   ]
  },
  {
   "cell_type": "markdown",
   "metadata": {
    "pycharm": {
     "name": "#%% md\n"
    }
   },
   "source": [
    "### Check connected\n",
    "check if something appears once on right and then if what it's connected to on the left appears once then disconnected"
   ]
  },
  {
   "cell_type": "code",
   "execution_count": 73,
   "metadata": {
    "pycharm": {
     "name": "#%%\n"
    }
   },
   "outputs": [],
   "source": [
    "class DFS:\n",
    "    # init function to declare class variables\n",
    "    def __init__(self, V):\n",
    "        self.V = V\n",
    "        self.visited = np.zeros(V.shape[0])\n",
    "        self.vis = np.zeros(V.shape)\n",
    "\n",
    "    def test(self):\n",
    "        curr = 1\n",
    "        for i in range(len(self.V)):\n",
    "            if self.visited[i] == 0:\n",
    "                unique = np.unique(self.visited[~np.all(self.V[i] == 0, axis=0)])\n",
    "\n",
    "                if unique[0] == 0:\n",
    "                    self.visited[~np.all(self.V[i] == 0, axis=0)] = curr\n",
    "                    curr += 1\n",
    "                else:\n",
    "                    self.visited[~np.all(self.V[i] == 0, axis=0)] = int(unique[1])\n",
    "\n",
    "    def extract(self):\n",
    "        self.test()\n",
    "        cc = []\n",
    "        print(self.visited)\n",
    "        for i in range(int(self.visited.max())):\n",
    "            cc.append(np.where(self.visited == i + 1))\n",
    "        return cc"
   ]
  },
  {
   "cell_type": "code",
   "execution_count": 18,
   "outputs": [],
   "source": [
    "class Graph:\n",
    "\n",
    "    # init function to declare class variables\n",
    "    def __init__(self, V):\n",
    "        self.V = V\n",
    "        self.adj = [[] for i in range(V)]\n",
    "\n",
    "    def DFSUtil(self, temp, v, visited):\n",
    "\n",
    "        # Mark the current vertex as visited\n",
    "        visited[v] = True\n",
    "\n",
    "        # Store the vertex to list\n",
    "        temp.append(v)\n",
    "\n",
    "        # Repeat for all vertices adjacent\n",
    "        # to this vertex v\n",
    "        for i in self.adj[v]:\n",
    "            if visited[i] == False:\n",
    "\n",
    "                # Update the list\n",
    "                temp = self.DFSUtil(temp, i, visited)\n",
    "        return temp\n",
    "\n",
    "    # method to add an undirected edge\n",
    "    def addEdge(self, v, w):\n",
    "        self.adj[v].append(w)\n",
    "        self.adj[w].append(v)\n",
    "\n",
    "    # Method to retrieve connected components\n",
    "    # in an undirected graph\n",
    "    def connectedComponents(self):\n",
    "        visited = []\n",
    "        cc = []\n",
    "        for i in range(self.V):\n",
    "            visited.append(False)\n",
    "        for v in range(self.V):\n",
    "            if visited[v] == False:\n",
    "                temp = []\n",
    "                cc.append(self.DFSUtil(temp, v, visited))\n",
    "        return cc"
   ],
   "metadata": {
    "collapsed": false,
    "pycharm": {
     "name": "#%%\n"
    }
   }
  },
  {
   "cell_type": "code",
   "execution_count": 25,
   "outputs": [],
   "source": [
    "g = Graph(len(A))\n",
    "for i in range(len(A)):\n",
    "    for j in np.nonzero(A[i])[0]:\n",
    "        if i != j:\n",
    "            g.addEdge(i,j)"
   ],
   "metadata": {
    "collapsed": false,
    "pycharm": {
     "name": "#%%\n"
    }
   }
  },
  {
   "cell_type": "code",
   "execution_count": 74,
   "metadata": {
    "pycharm": {
     "name": "#%%\n"
    }
   },
   "outputs": [
    {
     "name": "stdout",
     "output_type": "stream",
     "text": [
      "[1. 1. 1. ... 1. 1. 1.]\n"
     ]
    }
   ],
   "source": [
    "g = DFS(A)\n",
    "A_cc = g.extract()"
   ]
  },
  {
   "cell_type": "code",
   "execution_count": null,
   "outputs": [],
   "source": [],
   "metadata": {
    "collapsed": false,
    "pycharm": {
     "name": "#%%\n"
    }
   }
  },
  {
   "cell_type": "code",
   "execution_count": 75,
   "metadata": {
    "pycharm": {
     "name": "#%%\n"
    }
   },
   "outputs": [
    {
     "data": {
      "text/plain": "[(array([    0,     1,     2, ..., 14384, 14385, 14386], dtype=int64),)]"
     },
     "execution_count": 75,
     "metadata": {},
     "output_type": "execute_result"
    }
   ],
   "source": [
    "A_cc"
   ]
  },
  {
   "cell_type": "code",
   "execution_count": 23,
   "metadata": {
    "pycharm": {
     "name": "#%%\n"
    }
   },
   "outputs": [
    {
     "data": {
      "text/plain": [
       "array([0.00025132+0.j, 0.00012566+0.j, 0.00012566+0.j, ...,\n",
       "       0.00012566+0.j, 0.00012566+0.j, 0.00012566+0.j])"
      ]
     },
     "execution_count": 23,
     "metadata": {},
     "output_type": "execute_result"
    }
   ],
   "source": [
    "from scipy.linalg import eig\n",
    "\n",
    "S, U = eig(A.T)\n",
    "stationary = np.array(U[:, np.where(np.abs(S - 1.) < 1e-8)[0][0]].flat)\n",
    "stationary = stationary / np.sum(stationary)\n",
    "stationary"
   ]
  },
  {
   "cell_type": "code",
   "execution_count": 26,
   "metadata": {},
   "outputs": [
    {
     "data": {
      "text/plain": [
       "(0.0005026395234617779+0j)"
      ]
     },
     "execution_count": 26,
     "metadata": {},
     "output_type": "execute_result"
    }
   ],
   "source": [
    "(stationary).max()"
   ]
  },
  {
   "cell_type": "code",
   "execution_count": 38,
   "metadata": {
    "pycharm": {
     "name": "#%%\n"
    }
   },
   "outputs": [
    {
     "data": {
      "text/plain": [
       "array([104231,  83176, 104384, 159889,   6729], dtype=int64)"
      ]
     },
     "execution_count": 38,
     "metadata": {},
     "output_type": "execute_result"
    }
   ],
   "source": [
    "idx = (-stationary).argsort()[:5]\n",
    "tmp = cr_u[idx]\n",
    "tmp"
   ]
  },
  {
   "cell_type": "code",
   "execution_count": 37,
   "metadata": {
    "pycharm": {
     "name": "#%%\n"
    }
   },
   "outputs": [
    {
     "data": {
      "text/plain": [
       "array([     2,      8,     44, ..., 168079, 168090, 168103], dtype=int64)"
      ]
     },
     "execution_count": 37,
     "metadata": {},
     "output_type": "execute_result"
    }
   ],
   "source": [
    "cr_u"
   ]
  },
  {
   "cell_type": "code",
   "execution_count": 4,
   "metadata": {
    "pycharm": {
     "name": "#%%\n"
    }
   },
   "outputs": [
    {
     "data": {
      "text/html": [
       "<div>\n",
       "<style scoped>\n",
       "    .dataframe tbody tr th:only-of-type {\n",
       "        vertical-align: middle;\n",
       "    }\n",
       "\n",
       "    .dataframe tbody tr th {\n",
       "        vertical-align: top;\n",
       "    }\n",
       "\n",
       "    .dataframe thead th {\n",
       "        text-align: right;\n",
       "    }\n",
       "</style>\n",
       "<table border=\"1\" class=\"dataframe\">\n",
       "  <thead>\n",
       "    <tr style=\"text-align: right;\">\n",
       "      <th></th>\n",
       "      <th>Hubs</th>\n",
       "      <th>Auth</th>\n",
       "    </tr>\n",
       "  </thead>\n",
       "  <tbody>\n",
       "    <tr>\n",
       "      <th>0</th>\n",
       "      <td>9008</td>\n",
       "      <td>113885</td>\n",
       "    </tr>\n",
       "    <tr>\n",
       "      <th>1</th>\n",
       "      <td>9008</td>\n",
       "      <td>5240</td>\n",
       "    </tr>\n",
       "    <tr>\n",
       "      <th>2</th>\n",
       "      <td>9008</td>\n",
       "      <td>47049</td>\n",
       "    </tr>\n",
       "    <tr>\n",
       "      <th>3</th>\n",
       "      <td>9008</td>\n",
       "      <td>163802</td>\n",
       "    </tr>\n",
       "    <tr>\n",
       "      <th>4</th>\n",
       "      <td>9008</td>\n",
       "      <td>142846</td>\n",
       "    </tr>\n",
       "    <tr>\n",
       "      <th>...</th>\n",
       "      <td>...</td>\n",
       "      <td>...</td>\n",
       "    </tr>\n",
       "    <tr>\n",
       "      <th>7970</th>\n",
       "      <td>3778</td>\n",
       "      <td>88523</td>\n",
       "    </tr>\n",
       "    <tr>\n",
       "      <th>7971</th>\n",
       "      <td>2562</td>\n",
       "      <td>89426</td>\n",
       "    </tr>\n",
       "    <tr>\n",
       "      <th>7972</th>\n",
       "      <td>2562</td>\n",
       "      <td>68970</td>\n",
       "    </tr>\n",
       "    <tr>\n",
       "      <th>7973</th>\n",
       "      <td>6467</td>\n",
       "      <td>86519</td>\n",
       "    </tr>\n",
       "    <tr>\n",
       "      <th>7974</th>\n",
       "      <td>5486</td>\n",
       "      <td>10885</td>\n",
       "    </tr>\n",
       "  </tbody>\n",
       "</table>\n",
       "<p>7975 rows × 2 columns</p>\n",
       "</div>"
      ],
      "text/plain": [
       "      Hubs    Auth\n",
       "0     9008  113885\n",
       "1     9008    5240\n",
       "2     9008   47049\n",
       "3     9008  163802\n",
       "4     9008  142846\n",
       "...    ...     ...\n",
       "7970  3778   88523\n",
       "7971  2562   89426\n",
       "7972  2562   68970\n",
       "7973  6467   86519\n",
       "7974  5486   10885\n",
       "\n",
       "[7975 rows x 2 columns]"
      ]
     },
     "execution_count": 4,
     "metadata": {},
     "output_type": "execute_result"
    }
   ],
   "source": [
    "P = np.zeros((10000, 10000))\n",
    "count = 0\n",
    "for index, values in reduced_df.iterrows():\n",
    "    P[values[\"numeric_id_1\"] - 1][np.array(values[\"numeric_id_2\"]) - 1] = 1 / len(values[\"numeric_id_2\"])\n",
    "    print(P[values[\"numeric_id_1\"] - 1].sum())"
   ]
  }
 ],
 "metadata": {
  "kernelspec": {
   "display_name": "Python 3 (ipykernel)",
   "language": "python",
   "name": "python3"
  },
  "language_info": {
   "codemirror_mode": {
    "name": "ipython",
    "version": 3
   },
   "file_extension": ".py",
   "mimetype": "text/x-python",
   "name": "python",
   "nbconvert_exporter": "python",
   "pygments_lexer": "ipython3",
   "version": "3.7.1"
  }
 },
 "nbformat": 4,
 "nbformat_minor": 1
}