{
 "cells": [
  {
   "cell_type": "markdown",
   "metadata": {
    "collapsed": true,
    "pycharm": {
     "name": "#%% md\n"
    }
   },
   "source": [
    "### Data Prep"
   ]
  },
  {
   "cell_type": "code",
   "execution_count": 1,
   "metadata": {
    "pycharm": {
     "name": "#%%\n"
    }
   },
   "outputs": [],
   "source": [
    "import pandas as pd\n",
    "import numpy as np"
   ]
  },
  {
   "cell_type": "code",
   "execution_count": 2,
   "metadata": {
    "pycharm": {
     "name": "#%%\n"
    }
   },
   "outputs": [
    {
     "data": {
      "text/plain": "         numeric_id_1  numeric_id_2\n0               98343        141493\n1               98343         58736\n2               98343        140703\n3               98343        151401\n4               98343        157118\n...               ...           ...\n6797552         97507         29359\n6797553         71175         12020\n6797554        151702        128281\n6797555        118034         38021\n6797556         27819        153993\n\n[6797557 rows x 2 columns]",
      "text/html": "<div>\n<style scoped>\n    .dataframe tbody tr th:only-of-type {\n        vertical-align: middle;\n    }\n\n    .dataframe tbody tr th {\n        vertical-align: top;\n    }\n\n    .dataframe thead th {\n        text-align: right;\n    }\n</style>\n<table border=\"1\" class=\"dataframe\">\n  <thead>\n    <tr style=\"text-align: right;\">\n      <th></th>\n      <th>numeric_id_1</th>\n      <th>numeric_id_2</th>\n    </tr>\n  </thead>\n  <tbody>\n    <tr>\n      <th>0</th>\n      <td>98343</td>\n      <td>141493</td>\n    </tr>\n    <tr>\n      <th>1</th>\n      <td>98343</td>\n      <td>58736</td>\n    </tr>\n    <tr>\n      <th>2</th>\n      <td>98343</td>\n      <td>140703</td>\n    </tr>\n    <tr>\n      <th>3</th>\n      <td>98343</td>\n      <td>151401</td>\n    </tr>\n    <tr>\n      <th>4</th>\n      <td>98343</td>\n      <td>157118</td>\n    </tr>\n    <tr>\n      <th>...</th>\n      <td>...</td>\n      <td>...</td>\n    </tr>\n    <tr>\n      <th>6797552</th>\n      <td>97507</td>\n      <td>29359</td>\n    </tr>\n    <tr>\n      <th>6797553</th>\n      <td>71175</td>\n      <td>12020</td>\n    </tr>\n    <tr>\n      <th>6797554</th>\n      <td>151702</td>\n      <td>128281</td>\n    </tr>\n    <tr>\n      <th>6797555</th>\n      <td>118034</td>\n      <td>38021</td>\n    </tr>\n    <tr>\n      <th>6797556</th>\n      <td>27819</td>\n      <td>153993</td>\n    </tr>\n  </tbody>\n</table>\n<p>6797557 rows × 2 columns</p>\n</div>"
     },
     "execution_count": 2,
     "metadata": {},
     "output_type": "execute_result"
    }
   ],
   "source": [
    "df = pd.read_csv(\"lib/datasets/twitch_gamers/large_twitch_edges.csv\")\n",
    "df"
   ]
  },
  {
   "cell_type": "markdown",
   "metadata": {
    "pycharm": {
     "name": "#%% md\n"
    }
   },
   "source": [
    "## Random walk with Restart.\n",
    "When the amount of nodes gets to 150 we randomly select a new node and then repeat"
   ]
  },
  {
   "cell_type": "code",
   "execution_count": 3,
   "metadata": {
    "pycharm": {
     "name": "#%%\n"
    }
   },
   "outputs": [],
   "source": [
    "import random\n",
    "def sub_graph(df, query, unique):\n",
    "    nodes = []\n",
    "    nodes.append(query)\n",
    "    # random walk w/ restart\n",
    "    groups1 = df.groupby(\"numeric_id_1\")\n",
    "    groups2 = df.groupby(\"numeric_id_2\")\n",
    "    end = True\n",
    "    while len(nodes) < 5000:\n",
    "        while len(nodes) < 150:\n",
    "            end = True\n",
    "            curr = query\n",
    "            while curr in nodes and end:\n",
    "                selected = list(groups1.get_group(curr)[\"numeric_id_2\"]) + list(groups2.get_group(curr)[\"numeric_id_1\"])\n",
    "                ind = random.choice(selected)\n",
    "                if ind not in df[\"numeric_id_1\"].unique():\n",
    "                    end = False\n",
    "                elif ind not in df[\"numeric_id_2\"].unique():\n",
    "                    end = False\n",
    "                curr = ind\n",
    "            if ind not in nodes:\n",
    "                nodes.append(ind)\n",
    "        query =  np.random.randint(0,123518)\n",
    "        while query not in unique:\n",
    "            query =  np.random.randint(0,123518)\n",
    "        nodes.append(query)\n",
    "\n",
    "    return nodes"
   ]
  },
  {
   "cell_type": "code",
   "execution_count": 4,
   "metadata": {},
   "outputs": [],
   "source": [
    "sub = sub_graph(df, 1, df[\"numeric_id_1\"].unique())"
   ]
  },
  {
   "cell_type": "code",
   "execution_count": 5,
   "metadata": {
    "pycharm": {
     "name": "#%%\n"
    }
   },
   "outputs": [
    {
     "name": "stdout",
     "output_type": "stream",
     "text": [
      "0\n",
      "1000000\n",
      "2000000\n",
      "3000000\n",
      "4000000\n",
      "5000000\n",
      "6000000\n"
     ]
    }
   ],
   "source": [
    "id1 = list(df.numeric_id_1)\n",
    "id2 = list(df.numeric_id_2)\n",
    "new1 = []\n",
    "new2 = []\n",
    "for i in range(len(id1)):\n",
    "    if i %1000000 == 0:\n",
    "        print(i)\n",
    "\n",
    "    if id1[i] in sub:\n",
    "        if id2[i] in sub:\n",
    "            new1.append(id1[i])\n",
    "            new2.append(id2[i])"
   ]
  },
  {
   "cell_type": "code",
   "execution_count": 6,
   "metadata": {
    "pycharm": {
     "name": "#%%\n"
    }
   },
   "outputs": [
    {
     "data": {
      "text/plain": [
       "array([[0., 0., 0., ..., 0., 0., 0.],\n",
       "       [0., 0., 0., ..., 0., 0., 0.],\n",
       "       [0., 0., 0., ..., 0., 0., 0.],\n",
       "       ...,\n",
       "       [0., 0., 0., ..., 0., 0., 0.],\n",
       "       [0., 0., 0., ..., 0., 0., 0.],\n",
       "       [0., 0., 0., ..., 0., 0., 0.]])"
      ]
     },
     "execution_count": 6,
     "metadata": {},
     "output_type": "execute_result"
    }
   ],
   "source": [
    "P = np.zeros((len(new1),len(new1)))\n",
    "unique = list(set(new1 + new2))\n",
    "for i in range(len(new2)):\n",
    "    P[unique.index(new1[i])][unique.index(new2[i])] = 1/new1.count(new1[i])\n",
    "P"
   ]
  },
  {
   "cell_type": "code",
   "execution_count": 9,
   "metadata": {
    "pycharm": {
     "name": "#%%\n"
    }
   },
   "outputs": [],
   "source": [
    "for i in range(len(P)):\n",
    "    if np.array_equal(P[i],np.zeros(len(new1))):\n",
    "        P[i] = np.full(len(new1),1/len(new1))"
   ]
  },
  {
   "cell_type": "markdown",
   "metadata": {
    "pycharm": {
     "name": "#%% md\n"
    }
   },
   "source": [
    "### PPR"
   ]
  },
  {
   "cell_type": "code",
   "execution_count": 11,
   "metadata": {},
   "outputs": [],
   "source": [
    "c = .85\n",
    "n = len(new2)\n",
    "query = 1\n",
    "q = np.zeros((n,1))\n",
    "q[query - 1][0] = 1\n",
    "r = np.ones((n,1)) / n\n",
    "rback = np.zeros((n,1))\n",
    "while np.sum(np.absolute(r - rback)) > 10**-6:\n",
    "    rback = r\n",
    "    r = c * np.dot(P.T,r) + (1-c) * q"
   ]
  },
  {
   "cell_type": "markdown",
   "metadata": {
    "pycharm": {
     "name": "#%% md\n"
    }
   },
   "source": [
    "### SALSA"
   ]
  },
  {
   "cell_type": "code",
   "execution_count": 12,
   "metadata": {
    "pycharm": {
     "name": "#%%\n"
    }
   },
   "outputs": [],
   "source": [
    "hubs = (-r.reshape((n,))).argsort()[:200]\n",
    "ha = df[df[\"numeric_id_1\"].isin(hubs)]"
   ]
  },
  {
   "cell_type": "code",
   "execution_count": 13,
   "metadata": {
    "pycharm": {
     "name": "#%%\n"
    }
   },
   "outputs": [],
   "source": [
    "bi = pd.DataFrame()\n",
    "bi[\"Hubs\"] = ha[\"numeric_id_1\"]\n",
    "bi[\"Auth\"] = ha[\"numeric_id_2\"]\n",
    "bi.to_csv(\"lib/datasets/bi.csv\",index=False)"
   ]
  },
  {
   "cell_type": "code",
   "execution_count": 14,
   "metadata": {},
   "outputs": [
    {
     "data": {
      "text/html": [
       "<div>\n",
       "<style scoped>\n",
       "    .dataframe tbody tr th:only-of-type {\n",
       "        vertical-align: middle;\n",
       "    }\n",
       "\n",
       "    .dataframe tbody tr th {\n",
       "        vertical-align: top;\n",
       "    }\n",
       "\n",
       "    .dataframe thead th {\n",
       "        text-align: right;\n",
       "    }\n",
       "</style>\n",
       "<table border=\"1\" class=\"dataframe\">\n",
       "  <thead>\n",
       "    <tr style=\"text-align: right;\">\n",
       "      <th></th>\n",
       "      <th>Hubs</th>\n",
       "      <th>Auth</th>\n",
       "    </tr>\n",
       "  </thead>\n",
       "  <tbody>\n",
       "    <tr>\n",
       "      <th>0</th>\n",
       "      <td>3215</td>\n",
       "      <td>115407</td>\n",
       "    </tr>\n",
       "    <tr>\n",
       "      <th>1</th>\n",
       "      <td>3215</td>\n",
       "      <td>48461</td>\n",
       "    </tr>\n",
       "    <tr>\n",
       "      <th>2</th>\n",
       "      <td>3215</td>\n",
       "      <td>45752</td>\n",
       "    </tr>\n",
       "    <tr>\n",
       "      <th>3</th>\n",
       "      <td>3215</td>\n",
       "      <td>42925</td>\n",
       "    </tr>\n",
       "    <tr>\n",
       "      <th>4</th>\n",
       "      <td>3215</td>\n",
       "      <td>78399</td>\n",
       "    </tr>\n",
       "    <tr>\n",
       "      <th>...</th>\n",
       "      <td>...</td>\n",
       "      <td>...</td>\n",
       "    </tr>\n",
       "    <tr>\n",
       "      <th>8439</th>\n",
       "      <td>2636</td>\n",
       "      <td>78700</td>\n",
       "    </tr>\n",
       "    <tr>\n",
       "      <th>8440</th>\n",
       "      <td>1468</td>\n",
       "      <td>93841</td>\n",
       "    </tr>\n",
       "    <tr>\n",
       "      <th>8441</th>\n",
       "      <td>608</td>\n",
       "      <td>137902</td>\n",
       "    </tr>\n",
       "    <tr>\n",
       "      <th>8442</th>\n",
       "      <td>3631</td>\n",
       "      <td>155080</td>\n",
       "    </tr>\n",
       "    <tr>\n",
       "      <th>8443</th>\n",
       "      <td>2142</td>\n",
       "      <td>106430</td>\n",
       "    </tr>\n",
       "  </tbody>\n",
       "</table>\n",
       "<p>8444 rows × 2 columns</p>\n",
       "</div>"
      ],
      "text/plain": [
       "      Hubs    Auth\n",
       "0     3215  115407\n",
       "1     3215   48461\n",
       "2     3215   45752\n",
       "3     3215   42925\n",
       "4     3215   78399\n",
       "...    ...     ...\n",
       "8439  2636   78700\n",
       "8440  1468   93841\n",
       "8441   608  137902\n",
       "8442  3631  155080\n",
       "8443  2142  106430\n",
       "\n",
       "[8444 rows x 2 columns]"
      ]
     },
     "execution_count": 14,
     "metadata": {},
     "output_type": "execute_result"
    }
   ],
   "source": [
    "bi = pd.read_csv(\"lib/datasets/bi.csv\")\n",
    "bi"
   ]
  },
  {
   "cell_type": "code",
   "execution_count": 15,
   "metadata": {},
   "outputs": [],
   "source": [
    "order = np.unique(bi)\n",
    "Lr = np.zeros((len(order),len(order)))\n",
    "bi_g = bi.groupby(\"Hubs\")\n",
    "for i in range(len(order)):\n",
    "    if order[i] in bi[\"Hubs\"].tolist():\n",
    "        vals = bi_g.get_group(order[i])[\"Auth\"]\n",
    "        Lr[i][np.where(np.isin(order, vals))] = 1/len(vals)"
   ]
  },
  {
   "cell_type": "code",
   "execution_count": 16,
   "metadata": {
    "pycharm": {
     "name": "#%%\n"
    }
   },
   "outputs": [],
   "source": [
    "Lc = np.zeros((len(order),len(order)))\n",
    "bi_g = bi.groupby(\"Auth\")\n",
    "for i in range(len(order)):\n",
    "    if order[i] in bi[\"Auth\"].tolist():\n",
    "        vals = bi_g.get_group(order[i])[\"Hubs\"]\n",
    "        Lc[i][np.where(np.isin(order, vals))] = 1/len(vals)\n",
    "Lc = Lc.T"
   ]
  },
  {
   "cell_type": "code",
   "execution_count": 17,
   "metadata": {
    "pycharm": {
     "name": "#%%\n"
    }
   },
   "outputs": [
    {
     "name": "stdout",
     "output_type": "stream",
     "text": [
      "(145, 145) (8011, 8011)\n"
     ]
    }
   ],
   "source": [
    "rc = Lr.dot(Lc.T)\n",
    "rc_u = order[~np.all(rc == 0, axis=1)]\n",
    "H = rc[~np.all(rc == 0, axis=1)]\n",
    "H = H[:,~np.all(H == 0, axis=0)]\n",
    "\n",
    "cr = Lc.T.dot(Lr)\n",
    "cr_u = order[~np.all(cr == 0, axis=1)]\n",
    "A = cr[~np.all(cr == 0, axis=1)]\n",
    "A = A[:,~np.all(A == 0, axis=0)]\n",
    "print(H.shape,A.shape)"
   ]
  },
  {
   "cell_type": "code",
   "execution_count": 18,
   "metadata": {
    "pycharm": {
     "name": "#%%\n"
    }
   },
   "outputs": [
    {
     "data": {
      "text/plain": [
       "array([[1, 1, 1, 1],\n",
       "       [0, 1, 1, 0]])"
      ]
     },
     "execution_count": 18,
     "metadata": {},
     "output_type": "execute_result"
    }
   ],
   "source": [
    "tmp = np.array([[0,1,1,0],\n",
    "                [0,1,1,0]])\n",
    "tmp[0,np.all(tmp == 0, axis=0)] = 1\n",
    "tmp"
   ]
  },
  {
   "cell_type": "markdown",
   "metadata": {
    "pycharm": {
     "name": "#%% md\n"
    }
   },
   "source": [
    "### Check connected\n",
    "check if something appears once on right and then if what it's connected to on the left appears once then disconnected"
   ]
  },
  {
   "cell_type": "code",
   "execution_count": 19,
   "metadata": {
    "pycharm": {
     "name": "#%%\n"
    }
   },
   "outputs": [],
   "source": [
    "class DFS:\n",
    "\n",
    "    # init function to declare class variables\n",
    "    def __init__(self, V):\n",
    "        self.V = V\n",
    "        self.visited = np.zeros(V.shape[0])\n",
    "        self.vis = np.zeros(V.shape)\n",
    "\n",
    "    def test(self):\n",
    "        curr = 1\n",
    "        for i in range(len(self.V)):\n",
    "            if self.visited[i] == 0:\n",
    "                unique = np.unique(self.visited[~np.all(self.V[i] == 0, axis=0)])\n",
    "\n",
    "                if unique[0] == 0:\n",
    "                    self.visited[~np.all(self.V[i] == 0, axis=0)] = curr\n",
    "                    curr += 1\n",
    "                else:\n",
    "                    self.visited[~np.all(self.V[i] == 0, axis=0)] = int(unique[1])\n",
    "\n",
    "    def extract(self):\n",
    "        self.test()\n",
    "        cc = []\n",
    "        print(self.visited)\n",
    "        for i in range(int(self.visited.max())):\n",
    "            cc.append(np.where(self.visited == i+1))\n",
    "        return cc"
   ]
  },
  {
   "cell_type": "code",
   "execution_count": 20,
   "metadata": {
    "pycharm": {
     "name": "#%%\n"
    }
   },
   "outputs": [
    {
     "name": "stdout",
     "output_type": "stream",
     "text": [
      "[1. 1. 1. ... 1. 1. 1.]\n"
     ]
    }
   ],
   "source": [
    "g = DFS(A)\n",
    "A_cc = g.extract()"
   ]
  },
  {
   "cell_type": "code",
   "execution_count": 22,
   "metadata": {
    "pycharm": {
     "name": "#%%\n"
    }
   },
   "outputs": [
    {
     "name": "stdout",
     "output_type": "stream",
     "text": [
      "(8011, 8011)\n"
     ]
    },
    {
     "data": {
      "text/plain": [
       "array([   0,    1,    2, ..., 8008, 8009, 8010], dtype=int64)"
      ]
     },
     "execution_count": 22,
     "metadata": {},
     "output_type": "execute_result"
    }
   ],
   "source": []
  },
  {
   "cell_type": "code",
   "execution_count": 23,
   "metadata": {
    "pycharm": {
     "name": "#%%\n"
    }
   },
   "outputs": [
    {
     "data": {
      "text/plain": [
       "array([0.00025132+0.j, 0.00012566+0.j, 0.00012566+0.j, ...,\n",
       "       0.00012566+0.j, 0.00012566+0.j, 0.00012566+0.j])"
      ]
     },
     "execution_count": 23,
     "metadata": {},
     "output_type": "execute_result"
    }
   ],
   "source": [
    "from scipy.linalg import eig\n",
    "S, U = eig(A.T)\n",
    "stationary = np.array(U[:, np.where(np.abs(S - 1.) < 1e-8)[0][0]].flat)\n",
    "stationary = stationary / np.sum(stationary)\n",
    "stationary"
   ]
  },
  {
   "cell_type": "code",
   "execution_count": 26,
   "metadata": {},
   "outputs": [
    {
     "data": {
      "text/plain": [
       "(0.0005026395234617779+0j)"
      ]
     },
     "execution_count": 26,
     "metadata": {},
     "output_type": "execute_result"
    }
   ],
   "source": [
    "(stationary).max()"
   ]
  },
  {
   "cell_type": "code",
   "execution_count": 38,
   "metadata": {
    "pycharm": {
     "name": "#%%\n"
    }
   },
   "outputs": [
    {
     "data": {
      "text/plain": [
       "array([104231,  83176, 104384, 159889,   6729], dtype=int64)"
      ]
     },
     "execution_count": 38,
     "metadata": {},
     "output_type": "execute_result"
    }
   ],
   "source": [
    "idx = (-stationary).argsort()[:5]\n",
    "tmp = cr_u[idx]\n",
    "tmp"
   ]
  },
  {
   "cell_type": "code",
   "execution_count": 37,
   "metadata": {
    "pycharm": {
     "name": "#%%\n"
    }
   },
   "outputs": [
    {
     "data": {
      "text/plain": [
       "array([     2,      8,     44, ..., 168079, 168090, 168103], dtype=int64)"
      ]
     },
     "execution_count": 37,
     "metadata": {},
     "output_type": "execute_result"
    }
   ],
   "source": [
    "cr_u"
   ]
  },
  {
   "cell_type": "code",
   "execution_count": 4,
   "metadata": {
    "pycharm": {
     "name": "#%%\n"
    }
   },
   "outputs": [
    {
     "data": {
      "text/html": [
       "<div>\n",
       "<style scoped>\n",
       "    .dataframe tbody tr th:only-of-type {\n",
       "        vertical-align: middle;\n",
       "    }\n",
       "\n",
       "    .dataframe tbody tr th {\n",
       "        vertical-align: top;\n",
       "    }\n",
       "\n",
       "    .dataframe thead th {\n",
       "        text-align: right;\n",
       "    }\n",
       "</style>\n",
       "<table border=\"1\" class=\"dataframe\">\n",
       "  <thead>\n",
       "    <tr style=\"text-align: right;\">\n",
       "      <th></th>\n",
       "      <th>Hubs</th>\n",
       "      <th>Auth</th>\n",
       "    </tr>\n",
       "  </thead>\n",
       "  <tbody>\n",
       "    <tr>\n",
       "      <th>0</th>\n",
       "      <td>9008</td>\n",
       "      <td>113885</td>\n",
       "    </tr>\n",
       "    <tr>\n",
       "      <th>1</th>\n",
       "      <td>9008</td>\n",
       "      <td>5240</td>\n",
       "    </tr>\n",
       "    <tr>\n",
       "      <th>2</th>\n",
       "      <td>9008</td>\n",
       "      <td>47049</td>\n",
       "    </tr>\n",
       "    <tr>\n",
       "      <th>3</th>\n",
       "      <td>9008</td>\n",
       "      <td>163802</td>\n",
       "    </tr>\n",
       "    <tr>\n",
       "      <th>4</th>\n",
       "      <td>9008</td>\n",
       "      <td>142846</td>\n",
       "    </tr>\n",
       "    <tr>\n",
       "      <th>...</th>\n",
       "      <td>...</td>\n",
       "      <td>...</td>\n",
       "    </tr>\n",
       "    <tr>\n",
       "      <th>7970</th>\n",
       "      <td>3778</td>\n",
       "      <td>88523</td>\n",
       "    </tr>\n",
       "    <tr>\n",
       "      <th>7971</th>\n",
       "      <td>2562</td>\n",
       "      <td>89426</td>\n",
       "    </tr>\n",
       "    <tr>\n",
       "      <th>7972</th>\n",
       "      <td>2562</td>\n",
       "      <td>68970</td>\n",
       "    </tr>\n",
       "    <tr>\n",
       "      <th>7973</th>\n",
       "      <td>6467</td>\n",
       "      <td>86519</td>\n",
       "    </tr>\n",
       "    <tr>\n",
       "      <th>7974</th>\n",
       "      <td>5486</td>\n",
       "      <td>10885</td>\n",
       "    </tr>\n",
       "  </tbody>\n",
       "</table>\n",
       "<p>7975 rows × 2 columns</p>\n",
       "</div>"
      ],
      "text/plain": [
       "      Hubs    Auth\n",
       "0     9008  113885\n",
       "1     9008    5240\n",
       "2     9008   47049\n",
       "3     9008  163802\n",
       "4     9008  142846\n",
       "...    ...     ...\n",
       "7970  3778   88523\n",
       "7971  2562   89426\n",
       "7972  2562   68970\n",
       "7973  6467   86519\n",
       "7974  5486   10885\n",
       "\n",
       "[7975 rows x 2 columns]"
      ]
     },
     "execution_count": 4,
     "metadata": {},
     "output_type": "execute_result"
    }
   ],
   "source": [
    "P = np.zeros((10000,10000))\n",
    "count = 0\n",
    "for index, values in reduced_df.iterrows():\n",
    "    P[values[\"numeric_id_1\"]-1][np.array(values[\"numeric_id_2\"])-1] = 1/len(values[\"numeric_id_2\"])\n",
    "    print(P[values[\"numeric_id_1\"]-1].sum())"
   ]
  }
 ],
 "metadata": {
  "kernelspec": {
   "display_name": "Python 3 (ipykernel)",
   "language": "python",
   "name": "python3"
  },
  "language_info": {
   "codemirror_mode": {
    "name": "ipython",
    "version": 3
   },
   "file_extension": ".py",
   "mimetype": "text/x-python",
   "name": "python",
   "nbconvert_exporter": "python",
   "pygments_lexer": "ipython3",
   "version": "3.7.1"
  }
 },
 "nbformat": 4,
 "nbformat_minor": 1
}