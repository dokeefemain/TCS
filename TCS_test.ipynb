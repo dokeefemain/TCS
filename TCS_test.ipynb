{
 "cells": [
  {
   "cell_type": "code",
   "execution_count": 1,
   "metadata": {
    "collapsed": true
   },
   "outputs": [],
   "source": [
    "import networkx as nx\n",
    "import pandas as pd\n",
    "import numpy as np"
   ]
  },
  {
   "cell_type": "code",
   "execution_count": 2,
   "outputs": [
    {
     "data": {
      "text/plain": "         numeric_id_1  numeric_id_2\n0               98343        141493\n1               98343         58736\n2               98343        140703\n3               98343        151401\n4               98343        157118\n...               ...           ...\n6797552         97507         29359\n6797553         71175         12020\n6797554        151702        128281\n6797555        118034         38021\n6797556         27819        153993\n\n[6797557 rows x 2 columns]",
      "text/html": "<div>\n<style scoped>\n    .dataframe tbody tr th:only-of-type {\n        vertical-align: middle;\n    }\n\n    .dataframe tbody tr th {\n        vertical-align: top;\n    }\n\n    .dataframe thead th {\n        text-align: right;\n    }\n</style>\n<table border=\"1\" class=\"dataframe\">\n  <thead>\n    <tr style=\"text-align: right;\">\n      <th></th>\n      <th>numeric_id_1</th>\n      <th>numeric_id_2</th>\n    </tr>\n  </thead>\n  <tbody>\n    <tr>\n      <th>0</th>\n      <td>98343</td>\n      <td>141493</td>\n    </tr>\n    <tr>\n      <th>1</th>\n      <td>98343</td>\n      <td>58736</td>\n    </tr>\n    <tr>\n      <th>2</th>\n      <td>98343</td>\n      <td>140703</td>\n    </tr>\n    <tr>\n      <th>3</th>\n      <td>98343</td>\n      <td>151401</td>\n    </tr>\n    <tr>\n      <th>4</th>\n      <td>98343</td>\n      <td>157118</td>\n    </tr>\n    <tr>\n      <th>...</th>\n      <td>...</td>\n      <td>...</td>\n    </tr>\n    <tr>\n      <th>6797552</th>\n      <td>97507</td>\n      <td>29359</td>\n    </tr>\n    <tr>\n      <th>6797553</th>\n      <td>71175</td>\n      <td>12020</td>\n    </tr>\n    <tr>\n      <th>6797554</th>\n      <td>151702</td>\n      <td>128281</td>\n    </tr>\n    <tr>\n      <th>6797555</th>\n      <td>118034</td>\n      <td>38021</td>\n    </tr>\n    <tr>\n      <th>6797556</th>\n      <td>27819</td>\n      <td>153993</td>\n    </tr>\n  </tbody>\n</table>\n<p>6797557 rows × 2 columns</p>\n</div>"
     },
     "execution_count": 2,
     "metadata": {},
     "output_type": "execute_result"
    }
   ],
   "source": [
    "df = pd.read_csv(\"lib/datasets/twitch_gamers/large_twitch_edges.csv\")\n",
    "df"
   ],
   "metadata": {
    "collapsed": false,
    "pycharm": {
     "name": "#%%\n"
    }
   }
  },
  {
   "cell_type": "code",
   "execution_count": 3,
   "outputs": [],
   "source": [
    "g = nx.from_pandas_edgelist(df, source='numeric_id_1', target=\"numeric_id_2\", edge_attr=None, create_using=nx.DiGraph())"
   ],
   "metadata": {
    "collapsed": false,
    "pycharm": {
     "name": "#%%\n"
    }
   }
  },
  {
   "cell_type": "code",
   "execution_count": 4,
   "outputs": [],
   "source": [
    "personal = {}\n",
    "query_node = 1\n",
    "for i in range(g.number_of_nodes()):\n",
    "    if i == query_node:\n",
    "        personal[i] = 1\n",
    "    else:\n",
    "        personal[i] = 0"
   ],
   "metadata": {
    "collapsed": false,
    "pycharm": {
     "name": "#%%\n"
    }
   }
  },
  {
   "cell_type": "code",
   "execution_count": 5,
   "outputs": [],
   "source": [
    "ppr = nx.pagerank(g,personalization= personal)"
   ],
   "metadata": {
    "collapsed": false,
    "pycharm": {
     "name": "#%%\n"
    }
   }
  },
  {
   "cell_type": "code",
   "execution_count": 6,
   "outputs": [],
   "source": [
    "top_ppr = sorted(ppr, key=ppr.get, reverse=True)[:200]"
   ],
   "metadata": {
    "collapsed": false,
    "pycharm": {
     "name": "#%%\n"
    }
   }
  },
  {
   "cell_type": "code",
   "execution_count": 8,
   "outputs": [],
   "source": [
    "tmp = []\n",
    "tmp1 = []\n",
    "idk = df[\"numeric_id_1\"].unique()\n",
    "for i in top_ppr:\n",
    "    if i in idk:\n",
    "        tmp.append(\"Hub \"+str(i))\n",
    "        tmp1.append(i)\n",
    "con_ppr = tmp1"
   ],
   "metadata": {
    "collapsed": false,
    "pycharm": {
     "name": "#%%\n"
    }
   }
  },
  {
   "cell_type": "code",
   "execution_count": 9,
   "outputs": [],
   "source": [
    "unique = []\n",
    "for i in con_ppr:\n",
    "    group = df[df.numeric_id_1 == i][\"numeric_id_2\"]\n",
    "    for j in group:\n",
    "        unique.append(j)\n",
    "unique = list(set(unique))"
   ],
   "metadata": {
    "collapsed": false,
    "pycharm": {
     "name": "#%%\n"
    }
   }
  },
  {
   "cell_type": "markdown",
   "source": [
    "Apparently the graph is not connected. I'll need to figure this out another time"
   ],
   "metadata": {
    "collapsed": false,
    "pycharm": {
     "name": "#%% md\n"
    }
   }
  },
  {
   "cell_type": "code",
   "execution_count": 10,
   "outputs": [],
   "source": [
    "from networkx.algorithms import bipartite\n",
    "b = nx.Graph()\n",
    "b.add_nodes_from(tmp, bipartite = 0)\n",
    "b.add_nodes_from(unique,bipartite=1)"
   ],
   "metadata": {
    "collapsed": false,
    "pycharm": {
     "name": "#%%\n"
    }
   }
  },
  {
   "cell_type": "code",
   "execution_count": 11,
   "outputs": [],
   "source": [
    "for i in range(len(con_ppr)):\n",
    "    group = df[df.numeric_id_1 == con_ppr[i]][\"numeric_id_2\"]\n",
    "    for j in group:\n",
    "        b.add_edge(tmp[i],j)"
   ],
   "metadata": {
    "collapsed": false,
    "pycharm": {
     "name": "#%%\n"
    }
   }
  },
  {
   "cell_type": "code",
   "execution_count": 12,
   "outputs": [
    {
     "data": {
      "text/plain": "False"
     },
     "execution_count": 12,
     "metadata": {},
     "output_type": "execute_result"
    }
   ],
   "source": [
    "nx.is_connected(b)"
   ],
   "metadata": {
    "collapsed": false,
    "pycharm": {
     "name": "#%%\n"
    }
   }
  },
  {
   "cell_type": "code",
   "execution_count": 27,
   "outputs": [
    {
     "data": {
      "text/plain": "True"
     },
     "execution_count": 27,
     "metadata": {},
     "output_type": "execute_result"
    }
   ],
   "source": [
    "#from networkx.algorithms.components.connected import connected_component_subgraphs\n",
    "test = True\n",
    "tmp = []\n",
    "hubs = []\n",
    "auth = []\n",
    "for i in nx.connected_components(b):\n",
    "    if test:\n",
    "        test= False\n",
    "        for j in i:\n",
    "            if type(j) == str:\n",
    "                hubs.append(j)\n",
    "            else:\n",
    "                auth.append(j)\n",
    "bi = nx.Graph()\n",
    "bi.add_nodes_from(hubs, bipartite = 0)\n",
    "bi.add_nodes_from(auth, bipartite = 1)\n",
    "for i in hubs:\n",
    "    curr = int(i[4:])\n",
    "    group = df[df.numeric_id_1 == curr][\"numeric_id_2\"]\n",
    "    for j in group:\n",
    "        bi.add_edge(i, j)\n",
    "nx.is_connected(bi)"
   ],
   "metadata": {
    "collapsed": false,
    "pycharm": {
     "name": "#%%\n"
    }
   }
  },
  {
   "cell_type": "code",
   "execution_count": 47,
   "outputs": [
    {
     "data": {
      "text/plain": "(124, 6574)"
     },
     "execution_count": 47,
     "metadata": {},
     "output_type": "execute_result"
    }
   ],
   "source": [
    "from networkx.algorithms.bipartite.matrix import biadjacency_matrix\n",
    "L = biadjacency_matrix(bi, row_order = hubs, column_order=auth).toarray()\n",
    "L.shape"
   ],
   "metadata": {
    "collapsed": false,
    "pycharm": {
     "name": "#%%\n"
    }
   }
  },
  {
   "cell_type": "code",
   "execution_count": 56,
   "outputs": [
    {
     "data": {
      "text/plain": "array([1., 1., 1., ..., 1., 1., 1.])"
     },
     "execution_count": 56,
     "metadata": {},
     "output_type": "execute_result"
    }
   ],
   "source": [
    "Lr = []\n",
    "for i in L:\n",
    "    Lr.append(i / i.sum())\n",
    "Lr = np.array(Lr)\n",
    "Lc = []\n",
    "for i in L.T:\n",
    "    Lc.append(i / i.sum())\n",
    "Lc = np.array(Lc)\n",
    "A = np.dot(Lc, Lr)\n"
   ],
   "metadata": {
    "collapsed": false,
    "pycharm": {
     "name": "#%%\n"
    }
   }
  },
  {
   "cell_type": "code",
   "execution_count": 57,
   "outputs": [
    {
     "data": {
      "text/plain": "array([0.00013805, 0.00013805, 0.00013805, ..., 0.00013805, 0.00013805,\n       0.00027609])"
     },
     "execution_count": 57,
     "metadata": {},
     "output_type": "execute_result"
    }
   ],
   "source": [
    "evals, evecs = np.linalg.eig(A.T)\n",
    "evec1 = evecs[:,np.isclose(evals, 1)]\n",
    "\n",
    "#Since np.isclose will return an array, we've indexed with an array\n",
    "#so we still have our 2nd axis.  Get rid of it, since it's only size 1.\n",
    "evec1 = evec1[:,0]\n",
    "\n",
    "stationary = evec1 / evec1.sum()\n",
    "\n",
    "#eigs finds complex eigenvalues and eigenvectors, so you'll want the real part.\n",
    "stationary = stationary.real\n",
    "max(stationary)"
   ],
   "metadata": {
    "collapsed": false,
    "pycharm": {
     "name": "#%%\n"
    }
   }
  },
  {
   "cell_type": "code",
   "execution_count": 62,
   "outputs": [
    {
     "data": {
      "text/plain": "array([71519, 62246, 33481, 45995, 62080])"
     },
     "execution_count": 62,
     "metadata": {},
     "output_type": "execute_result"
    }
   ],
   "source": [
    "idx = (-stationary).argsort()[:5]\n",
    "# Top 5 Predicted channels\n",
    "np.array(auth)[idx]"
   ],
   "metadata": {
    "collapsed": false,
    "pycharm": {
     "name": "#%%\n"
    }
   }
  },
  {
   "cell_type": "code",
   "execution_count": 68,
   "outputs": [
    {
     "name": "stdout",
     "output_type": "stream",
     "text": [
      "[1, 19719, 63663, 90749, 1343]\n",
      "No shortest path\n",
      "[1, 100476, 18316, 166]\n",
      "No shortest path\n",
      "[1, 19719, 37185, 731, 5862]\n"
     ]
    }
   ],
   "source": [
    "for i in idx:\n",
    "    try:\n",
    "        print(nx.shortest_path(g, source=1, target=i))\n",
    "    except:\n",
    "        print(\"No shortest path\")"
   ],
   "metadata": {
    "collapsed": false,
    "pycharm": {
     "name": "#%%\n"
    }
   }
  },
  {
   "cell_type": "code",
   "execution_count": 49,
   "outputs": [
    {
     "data": {
      "text/plain": "matrix([[0, 0, 0, ..., 0, 0, 0],\n        [0, 0, 0, ..., 0, 0, 0],\n        [0, 0, 0, ..., 0, 0, 0],\n        ...,\n        [0, 0, 0, ..., 0, 0, 0],\n        [0, 0, 0, ..., 0, 0, 0],\n        [0, 0, 0, ..., 0, 0, 0]], dtype=int32)"
     },
     "execution_count": 49,
     "metadata": {},
     "output_type": "execute_result"
    }
   ],
   "source": [
    "from operator import itemgetter\n",
    "from networkx.algorithms.bipartite.matrix import biadjacency_matrix\n",
    "node_list = list(b.nodes)\n",
    "node_list.sort()\n",
    "bi_adj = nx.adjacency_matrix(b,node_list)\n",
    "bi_adj.todense()"
   ],
   "metadata": {
    "collapsed": false,
    "pycharm": {
     "name": "#%%\n"
    }
   }
  }
 ],
 "metadata": {
  "kernelspec": {
   "display_name": "Python 3",
   "language": "python",
   "name": "python3"
  },
  "language_info": {
   "codemirror_mode": {
    "name": "ipython",
    "version": 2
   },
   "file_extension": ".py",
   "mimetype": "text/x-python",
   "name": "python",
   "nbconvert_exporter": "python",
   "pygments_lexer": "ipython2",
   "version": "2.7.6"
  }
 },
 "nbformat": 4,
 "nbformat_minor": 0
}